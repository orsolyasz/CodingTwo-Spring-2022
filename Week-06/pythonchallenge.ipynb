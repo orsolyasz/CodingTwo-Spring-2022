{
 "cells": [
  {
   "cell_type": "markdown",
   "id": "8852fc9b-5342-41e9-a305-24b4a10d9ef8",
   "metadata": {},
   "source": [
    ".\n",
    "\n",
    "# Solution for 00"
   ]
  },
  {
   "cell_type": "code",
   "execution_count": 16,
   "id": "2cbc72b5-974b-4850-91b1-ef68c1de1f9a",
   "metadata": {},
   "outputs": [
    {
     "data": {
      "text/plain": [
       "True"
      ]
     },
     "execution_count": 16,
     "metadata": {},
     "output_type": "execute_result"
    }
   ],
   "source": [
    "import webbrowser\n",
    "#webbrowser.open('http://www.pythonchallenge.com/pc/def/0.html', new = 2, autoraise = True)\n",
    "\n",
    "x = 2**38\n",
    "\n",
    "webbrowser.open('http://www.pythonchallenge.com/pc/def/{}.html'.format(x), new = 2, autoraise = True)\n",
    "\n"
   ]
  },
  {
   "cell_type": "markdown",
   "id": "29f32f6b-3ca6-4121-9850-b897d9083b55",
   "metadata": {},
   "source": [
    ".\n",
    "\n",
    "# Solution for 01"
   ]
  },
  {
   "cell_type": "code",
   "execution_count": 34,
   "id": "d7a49976-dabe-41a7-9587-caffbc763aba",
   "metadata": {},
   "outputs": [
    {
     "name": "stdout",
     "output_type": "stream",
     "text": [
      "i hope you didnt translate it by hand thats what computers are for doing it in by hand is inefficient and thats why this text is so long using stringmaketrans is recommended now apply on the url\n"
     ]
    }
   ],
   "source": [
    "import string\n",
    "alphabet = list(string.ascii_lowercase)\n",
    "#print(alphabet)\n",
    "\n",
    "toTranslate = \"g fmnc wms bgblr rpylqjyrc gr zw fylb. rfyrq ufyr amknsrcpq ypc dmp. bmgle gr gl zw fylb gq glcddgagclr ylb rfyr'q ufw rfgq rcvr gq qm jmle. sqgle qrpgle.kyicrpylq() gq pcamkkclbcb. lmu ynnjw ml rfc spj.\"\n",
    "translation = ''\n",
    "\n",
    "#toTranslate = 'yz'\n",
    "#translation = ''\n",
    "\n",
    "for letter in toTranslate:\n",
    "    for betu in alphabet:\n",
    "        if letter == betu:\n",
    "            letterindex = alphabet.index(betu)+2\n",
    "            if letterindex>len(alphabet)-1:\n",
    "                letterindex-=len(alphabet)\n",
    "            translation+=alphabet[letterindex]\n",
    "    if letter ==\" \":\n",
    "        translation+=\" \"\n",
    "            \n",
    "print(translation);\n",
    "            "
   ]
  },
  {
   "cell_type": "markdown",
   "id": "455642c8-b37e-43c1-8298-d2715f70faae",
   "metadata": {},
   "source": [
    ".\n",
    "\n",
    "# Solution for 01\n",
    "maybe better?"
   ]
  },
  {
   "cell_type": "code",
   "execution_count": 76,
   "id": "1c1a8b0d-d669-406b-bb23-c57538089580",
   "metadata": {},
   "outputs": [
    {
     "name": "stdout",
     "output_type": "stream",
     "text": [
      "abcdefghijklmnopqrstuvwxyz\n",
      "i hope you didnt translate it by hand. thats what computers are for. doing it in by hand is inefficient and that's why this text is so long. using string.maketrans() is recommended. now apply on the url.\n"
     ]
    },
    {
     "data": {
      "text/plain": [
       "True"
      ]
     },
     "execution_count": 76,
     "metadata": {},
     "output_type": "execute_result"
    }
   ],
   "source": [
    "txt = \"g fmnc wms bgblr rpylqjyrc gr zw fylb. rfyrq ufyr amknsrcpq ypc dmp. bmgle gr gl zw fylb gq glcddgagclr ylb rfyr'q ufw rfgq rcvr gq qm jmle. sqgle qrpgle.kyicrpylq() gq pcamkkclbcb. lmu ynnjw ml rfc spj.\"\n",
    "urlCode =\"map\"\n",
    "alphabet = list(string.ascii_lowercase)\n",
    "newletters = alphabet[2:]+ alphabet[0:2]\n",
    "\n",
    "#this is to turn our \"lists\" to \"strings\" since the maketrans function can only take string arguments\n",
    "#note: couldve just not used LIST above\n",
    "x=\"\"\n",
    "x=x.join(alphabet)\n",
    "y=\"\"\n",
    "y=y.join(newletters)\n",
    "\n",
    "\n",
    "language = txt.maketrans(x, y)\n",
    "translation = txt.translate(language)\n",
    "print(x)\n",
    "print (translation)\n",
    "\n",
    "\n",
    "urlCode = urlCode.translate(language)\n",
    "import webbrowser\n",
    "webbrowser.open('http://www.pythonchallenge.com/pc/def/{}.html'.format(urlCode), new = 2, autoraise = True)\n"
   ]
  },
  {
   "cell_type": "markdown",
   "id": "a5a05d0c-b1c5-44ac-a1f4-c004e6949ec3",
   "metadata": {},
   "source": [
    ".\n",
    "\n",
    "# Solution for 02"
   ]
  },
  {
   "cell_type": "code",
   "execution_count": 109,
   "id": "26746795-7a70-4e17-b2da-b50951d8bd9e",
   "metadata": {},
   "outputs": [
    {
     "name": "stdout",
     "output_type": "stream",
     "text": [
      "equality\n"
     ]
    },
    {
     "data": {
      "text/plain": [
       "True"
      ]
     },
     "execution_count": 109,
     "metadata": {},
     "output_type": "execute_result"
    }
   ],
   "source": [
    "import urllib.request\n",
    "u = urllib.request.urlopen('http://www.pythonchallenge.com/pc/def/ocr.html')\n",
    "\n",
    "data = u.readlines()\n",
    "codedtxt = data[37:1257]\n",
    "decodedtxt=\"\"\n",
    "\n",
    "\n",
    "for s in codedtxt:  \n",
    "    for c in s:\n",
    "        #print (ord(c))\n",
    "        #print (chr(c))\n",
    "        if chr(c).isalpha():\n",
    "            decodedtxt+=chr(c)\n",
    "           #print(chr(c))\n",
    "\n",
    "print (decodedtxt)\n",
    "urlCode = decodedtxt\n",
    "\n",
    "import webbrowser\n",
    "webbrowser.open('http://www.pythonchallenge.com/pc/def/{}.html'.format(urlCode), new = 2, autoraise = True)\n"
   ]
  },
  {
   "cell_type": "markdown",
   "id": "097284e5-45c2-41e7-aaea-a3f4ace2df33",
   "metadata": {},
   "source": [
    ".\n",
    "\n",
    "# Solution for 03"
   ]
  },
  {
   "cell_type": "code",
   "execution_count": 145,
   "id": "41be8299-b98d-4f4b-913c-43b51c38edc2",
   "metadata": {},
   "outputs": [
    {
     "name": "stdout",
     "output_type": "stream",
     "text": [
      "['qIQNlQSLi', 'eOEKiVEYj', 'aZADnMCZq', 'bZUTkLYNg', 'uCNDeHSBj', 'kOIXdKBFh', 'dXJVlGZVm', 'gZAGiLQZx', 'vCJAsACFl', 'qKWGtIDCj']\n"
     ]
    },
    {
     "data": {
      "text/plain": [
       "True"
      ]
     },
     "execution_count": 145,
     "metadata": {},
     "output_type": "execute_result"
    }
   ],
   "source": [
    "import urllib.request\n",
    "import re\n",
    "u = urllib.request.urlopen('http://www.pythonchallenge.com/pc/def/equality.html')\n",
    "\n",
    "data = u.readlines()\n",
    "codedtxt = data[21:len(data)-1]\n",
    "codedstr = ''.join(map(str,codedtxt))\n",
    "\n",
    "#finding all lowercase letters that match the description -- ie that are surrounded by exactly 3 uppercase letters on each side\n",
    "m= re.findall('[^A-Z][A-Z][A-Z][A-Z][a-z][A-Z][A-Z][A-Z][^A-Z]',codedstr)\n",
    "print (m)\n",
    "\n",
    "#collecting the lowercase letters that fit our search\n",
    "solution=\"\"\n",
    "for u in m:\n",
    "    solution+=u[4]\n",
    "\n",
    "    \n",
    "urlCode = solution\n",
    "import webbrowser\n",
    "webbrowser.open('http://www.pythonchallenge.com/pc/def/{}.html'.format(urlCode), new = 2, autoraise = True)\n",
    "\n"
   ]
  },
  {
   "cell_type": "markdown",
   "id": "3869e252-8394-46fa-a0bc-17ed36470f1e",
   "metadata": {},
   "source": [
    ".\n",
    "\n",
    "# Solution for 04"
   ]
  },
  {
   "cell_type": "code",
   "execution_count": 217,
   "id": "acb00cd5-2c40-4a4c-869b-edc4bbde0e7e",
   "metadata": {},
   "outputs": [
    {
     "name": "stdout",
     "output_type": "stream",
     "text": [
      "84\n",
      "249\n"
     ]
    }
   ],
   "source": [
    "import urllib.request\n",
    "import webbrowser\n",
    "import re\n",
    "\n",
    "\n",
    "u = urllib.request.urlopen('http://www.pythonchallenge.com/pc/def/linkedlist.php?nothing=12345')\n",
    "data = u.read()\n",
    "newindata=''\n",
    "for c in data[-6:]:\n",
    "    newindata+=chr(c)\n",
    "    \n",
    "    \n",
    "nothings = [0, 12345]\n",
    "pagecontents = ['0', newindata]\n",
    "nothings.append(int(pagecontents[1]))\n",
    "solution=''\n",
    "\n",
    "\n",
    "for i in range(400):\n",
    "    x= int(nothings[i+2])\n",
    "    u = urllib.request.urlopen('http://www.pythonchallenge.com/pc/def/linkedlist.php?nothing={}'.format(x))\n",
    "    data=u.read()\n",
    "    newindata=''\n",
    "    for c in data[-6:]:\n",
    "        if chr(c).isdigit():\n",
    "            newindata+=chr(c)\n",
    "    if newindata=='':\n",
    "        print (i)\n",
    "        if i==84:\n",
    "            newindata=x/2\n",
    "        else:\n",
    "            for c in data:\n",
    "                solution+=chr(c)\n",
    "            break\n",
    "    pagecontents.append(newindata)\n",
    "    nothings.append(int(pagecontents[i+2]))\n",
    "\n",
    "if len(solution)>0:\n",
    "    urlCode = solution\n",
    "    webbrowser.open('http://www.pythonchallenge.com/pc/def/{}'.format(urlCode), new = 2, autoraise = True)\n",
    "    \n",
    "\n"
   ]
  },
  {
   "cell_type": "markdown",
   "id": "f7b3f7a5-dd3a-4872-b62b-9a909f736e96",
   "metadata": {},
   "source": [
    ".\n",
    "\n",
    "# Solution for 05"
   ]
  },
  {
   "cell_type": "code",
   "execution_count": 249,
   "id": "7fbd9668-3325-4e64-83d5-366e9b4aad7f",
   "metadata": {},
   "outputs": [
    {
     "name": "stdout",
     "output_type": "stream",
     "text": [
      "                                                                                               \n",
      "              #####                                                                      ##### \n",
      "               ####                                                                       #### \n",
      "               ####                                                                       #### \n",
      "               ####                                                                       #### \n",
      "               ####                                                                       #### \n",
      "               ####                                                                       #### \n",
      "               ####                                                                       #### \n",
      "               ####                                                                       #### \n",
      "      ###      ####   ###         ###       #####   ###    #####   ###          ###       #### \n",
      "   ###   ##    #### #######     ##  ###      #### #######   #### #######     ###  ###     #### \n",
      "  ###     ###  #####    ####   ###   ####    #####    ####  #####    ####   ###     ###   #### \n",
      " ###           ####     ####   ###    ###    ####     ####  ####     ####  ###      ####  #### \n",
      " ###           ####     ####          ###    ####     ####  ####     ####  ###       ###  #### \n",
      "####           ####     ####     ##   ###    ####     ####  ####     #### ####       ###  #### \n",
      "####           ####     ####   ##########    ####     ####  ####     #### ##############  #### \n",
      "####           ####     ####  ###    ####    ####     ####  ####     #### ####            #### \n",
      "####           ####     #### ####     ###    ####     ####  ####     #### ####            #### \n",
      " ###           ####     #### ####     ###    ####     ####  ####     ####  ###            #### \n",
      "  ###      ##  ####     ####  ###    ####    ####     ####  ####     ####   ###      ##   #### \n",
      "   ###    ##   ####     ####   ###########   ####     ####  ####     ####    ###    ##    #### \n",
      "      ###     ######    #####    ##    #### ######    ###########    #####      ###      ######\n",
      "                                                                                               \n"
     ]
    }
   ],
   "source": [
    "import urllib.request\n",
    "import webbrowser\n",
    "import pickle\n",
    "\n",
    "\n",
    "u = urllib.request.urlopen('http://www.pythonchallenge.com/pc/def/banner.p')\n",
    "data = u.read()\n",
    "pickleddata = pickle.loads(data)\n",
    "#print(data)\n",
    "\n",
    "rowsums=[0,0]\n",
    "\n",
    "#this was just to check the sum of numbers in each list\n",
    "for i in range(len(pickleddata)):\n",
    "    counter =0\n",
    "    for t in range(len(pickleddata[i])):\n",
    "        number = (int(pickleddata[i][t][1]))\n",
    "        counter+=number\n",
    "        #print(number)\n",
    "        #print(counter)\n",
    "        #print('')\n",
    "    rowsums.append(counter)\n",
    "    #print(rowsums[i+2])\n",
    "        #print('')\n",
    "\n",
    "#this is to print out each character as many times as defined by the number next to it\n",
    "for i in range(len(pickleddata)):\n",
    "    counter =0\n",
    "    for t in range(len(pickleddata[i])):\n",
    "        #print (pickleddata[i][t])\n",
    "        print (pickleddata[i][t][0]*pickleddata[i][t][1], end = \"\"),\n",
    "    print('')\n",
    "       \n",
    "\n",
    "\n"
   ]
  },
  {
   "cell_type": "code",
   "execution_count": null,
   "id": "4c129ad5-376d-4c21-aa90-30869ddd098a",
   "metadata": {},
   "outputs": [],
   "source": []
  }
 ],
 "metadata": {
  "kernelspec": {
   "display_name": "Python 3",
   "language": "python",
   "name": "python3"
  },
  "language_info": {
   "codemirror_mode": {
    "name": "ipython",
    "version": 3
   },
   "file_extension": ".py",
   "mimetype": "text/x-python",
   "name": "python",
   "nbconvert_exporter": "python",
   "pygments_lexer": "ipython3",
   "version": "3.8.8"
  }
 },
 "nbformat": 4,
 "nbformat_minor": 5
}
